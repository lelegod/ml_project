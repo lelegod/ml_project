{
 "cells": [
  {
   "cell_type": "markdown",
   "id": "f5cc2309",
   "metadata": {},
   "source": [
    "## Requirements"
   ]
  },
  {
   "cell_type": "code",
   "execution_count": 1,
   "id": "6939005a",
   "metadata": {},
   "outputs": [],
   "source": [
    "import numpy as np\n",
    "import pandas as pd"
   ]
  },
  {
   "cell_type": "markdown",
   "id": "5713bff9",
   "metadata": {},
   "source": [
    "## Load dataset"
   ]
  },
  {
   "cell_type": "code",
   "execution_count": null,
   "id": "436fd009",
   "metadata": {},
   "outputs": [
    {
     "name": "stdout",
     "output_type": "stream",
     "text": [
      "name                 11 Ursae Minoris b\n",
      "distance                          409.0\n",
      "stellar_magnitude                 5.013\n",
      "planet_type                   Gas Giant\n",
      "discovery_year                     2009\n",
      "mass_multiplier                   14.74\n",
      "mass_wrt                        Jupiter\n",
      "radius_multiplier                  1.09\n",
      "radius_wrt                      Jupiter\n",
      "orbital_radius                     1.53\n",
      "orbital_period                      1.4\n",
      "eccentricity                       0.08\n",
      "detection_method        Radial Velocity\n",
      "Name: 1, dtype: object\n"
     ]
    }
   ],
   "source": [
    "num_obeservation = 5250\n",
    "df = pd.read_csv(\"data/cleaned_5250.csv\").iloc[case]\n",
    "\n"
   ]
  }
 ],
 "metadata": {
  "kernelspec": {
   "display_name": "ml_project",
   "language": "python",
   "name": "python3"
  },
  "language_info": {
   "codemirror_mode": {
    "name": "ipython",
    "version": 3
   },
   "file_extension": ".py",
   "mimetype": "text/x-python",
   "name": "python",
   "nbconvert_exporter": "python",
   "pygments_lexer": "ipython3",
   "version": "3.13.7"
  }
 },
 "nbformat": 4,
 "nbformat_minor": 5
}
